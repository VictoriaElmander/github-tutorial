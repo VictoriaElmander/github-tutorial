{
 "cells": [
  {
   "cell_type": "markdown",
   "id": "ea4364b1",
   "metadata": {},
   "source": [
    "# Git och Github\n"
   ]
  },
  {
   "cell_type": "markdown",
   "id": "c7bbe0bc",
   "metadata": {},
   "source": [
    "# hej\n",
    "\n",
    "Kommando:\n",
    "- git add . - Lägger toö alla filer för att sparas\n",
    "- git commit -samma som under changes stage all changes\n"
   ]
  }
 ],
 "metadata": {
  "language_info": {
   "name": "python"
  }
 },
 "nbformat": 4,
 "nbformat_minor": 5
}
