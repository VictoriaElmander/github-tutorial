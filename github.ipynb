{
 "cells": [
  {
   "cell_type": "markdown",
   "id": "ea4364b1",
   "metadata": {},
   "source": [
    "# Git och Github\n"
   ]
  },
  {
   "cell_type": "markdown",
   "id": "c7bbe0bc",
   "metadata": {},
   "source": [
    "# hej\n",
    "\n",
    "Kommando:\n",
    "- git add . - Lägger toö alla filer för att sparas\n",
    "- git commit -m \"kommentar sparar projektet i en snapshot samma som under changes stage all changes\n",
    "- git push - lägger till våran snapshot på github\n"
   ]
  },
  {
   "cell_type": "code",
   "execution_count": 1,
   "id": "9d1efe25",
   "metadata": {},
   "outputs": [
    {
     "name": "stdout",
     "output_type": "stream",
     "text": [
      "Hello world\n"
     ]
    }
   ],
   "source": [
    "print(\"Hello world\")"
   ]
  },
  {
   "cell_type": "markdown",
   "id": "a0577bbf",
   "metadata": {},
   "source": [
    "Någonting med"
   ]
  }
 ],
 "metadata": {
  "kernelspec": {
   "display_name": ".venv",
   "language": "python",
   "name": "python3"
  },
  "language_info": {
   "codemirror_mode": {
    "name": "ipython",
    "version": 3
   },
   "file_extension": ".py",
   "mimetype": "text/x-python",
   "name": "python",
   "nbconvert_exporter": "python",
   "pygments_lexer": "ipython3",
   "version": "3.13.7"
  }
 },
 "nbformat": 4,
 "nbformat_minor": 5
}
